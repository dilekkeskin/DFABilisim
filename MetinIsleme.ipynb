{
  "nbformat": 4,
  "nbformat_minor": 0,
  "metadata": {
    "colab": {
      "provenance": [],
      "authorship_tag": "ABX9TyMILMZDZpfyc8iUY8A3DwVB",
      "include_colab_link": true
    },
    "kernelspec": {
      "name": "python3",
      "display_name": "Python 3"
    },
    "language_info": {
      "name": "python"
    }
  },
  "cells": [
    {
      "cell_type": "markdown",
      "metadata": {
        "id": "view-in-github",
        "colab_type": "text"
      },
      "source": [
        "<a href=\"https://colab.research.google.com/github/dilekkeskin/DFABilisim/blob/main/MetinIsleme.ipynb\" target=\"_parent\"><img src=\"https://colab.research.google.com/assets/colab-badge.svg\" alt=\"Open In Colab\"/></a>"
      ]
    },
    {
      "cell_type": "markdown",
      "source": [
        "# DFA Teknoloji - Makine Öğrenmesi ile Metin Sınıflandırma Projesi\n"
      ],
      "metadata": {
        "id": "Epin5JrKmUQh"
      }
    },
    {
      "cell_type": "markdown",
      "source": [
        "***1)KÜTÜPHANELERİ YÜKLEME***"
      ],
      "metadata": {
        "id": "RnaLSHgpBu9g"
      }
    },
    {
      "cell_type": "code",
      "source": [
        "# Temel kütüphaneler\n",
        "import pandas as pd\n",
        "import numpy as np\n",
        "import matplotlib.pyplot as plt\n",
        "import seaborn as sns\n",
        "\n",
        "# Metin ön işleme\n",
        "import re\n",
        "import nltk\n",
        "from nltk.corpus import stopwords\n",
        "nltk.download('stopwords')\n",
        "!pip install TurkishStemmer\n",
        "from TurkishStemmer import TurkishStemmer\n",
        "\n",
        "# Makine öğrenmesi\n",
        "from sklearn.model_selection import train_test_split\n",
        "from sklearn.feature_extraction.text import TfidfVectorizer\n",
        "from sklearn.naive_bayes import MultinomialNB\n",
        "from sklearn.linear_model import LogisticRegression\n",
        "from sklearn.metrics import classification_report, confusion_matrix, accuracy_score"
      ],
      "metadata": {
        "colab": {
          "base_uri": "https://localhost:8080/"
        },
        "id": "F6p_1P8Kp54V",
        "outputId": "a6788f1c-e5ef-4564-b3ad-652ba0dcf1b6"
      },
      "execution_count": null,
      "outputs": [
        {
          "output_type": "stream",
          "name": "stderr",
          "text": [
            "[nltk_data] Downloading package stopwords to /root/nltk_data...\n",
            "[nltk_data]   Package stopwords is already up-to-date!\n"
          ]
        },
        {
          "output_type": "stream",
          "name": "stdout",
          "text": [
            "Requirement already satisfied: TurkishStemmer in /usr/local/lib/python3.11/dist-packages (1.3)\n"
          ]
        }
      ]
    },
    {
      "cell_type": "markdown",
      "source": [
        "**2)VERİ SETİNİ YÜKLEME**"
      ],
      "metadata": {
        "id": "bqlMTkxR-NU0"
      }
    },
    {
      "cell_type": "code",
      "source": [
        "from google.colab import drive\n",
        "drive.mount('/content/drive')"
      ],
      "metadata": {
        "id": "1smwdQx5k2B6",
        "colab": {
          "base_uri": "https://localhost:8080/"
        },
        "outputId": "dfaf84fc-b0df-4f36-da25-b518fa57df36"
      },
      "execution_count": null,
      "outputs": [
        {
          "output_type": "stream",
          "name": "stdout",
          "text": [
            "Drive already mounted at /content/drive; to attempt to forcibly remount, call drive.mount(\"/content/drive\", force_remount=True).\n"
          ]
        }
      ]
    },
    {
      "cell_type": "code",
      "source": [
        "# Dosya yolunu belirt\n",
        "path = '/content/drive/MyDrive/DFABilisim/TurkishHeadlines.csv'\n",
        "\n",
        "# CSV dosyasını yükle\n",
        "df = pd.read_csv(path)\n",
        "\n",
        "# İlk 5 satırı kontrol et\n",
        "df.head()"
      ],
      "metadata": {
        "colab": {
          "base_uri": "https://localhost:8080/",
          "height": 206
        },
        "id": "OSrtiYdtn4Q-",
        "outputId": "271624f4-1eaf-4a68-9394-1fabcd080655"
      },
      "execution_count": null,
      "outputs": [
        {
          "output_type": "execute_result",
          "data": {
            "text/plain": [
              "                                            HABERLER   ETIKET\n",
              "0  TÜİK verilerine göre sanayi ciro endeksi Ağust...  Ekonomi\n",
              "1                  Piyasa güne eksi rezervde başladı  Ekonomi\n",
              "2  Citigroup, Deutsche Bank ve HSBC Libor manipül...  Ekonomi\n",
              "3  Gelişen piyasa yatırımcılarını en fazla 'Fed' ...  Ekonomi\n",
              "4            Bitcoin fiyatında yükseliş hız kesmiyor  Ekonomi"
            ],
            "text/html": [
              "\n",
              "  <div id=\"df-cea241f5-cc32-4bd8-9d39-c5476313f4d1\" class=\"colab-df-container\">\n",
              "    <div>\n",
              "<style scoped>\n",
              "    .dataframe tbody tr th:only-of-type {\n",
              "        vertical-align: middle;\n",
              "    }\n",
              "\n",
              "    .dataframe tbody tr th {\n",
              "        vertical-align: top;\n",
              "    }\n",
              "\n",
              "    .dataframe thead th {\n",
              "        text-align: right;\n",
              "    }\n",
              "</style>\n",
              "<table border=\"1\" class=\"dataframe\">\n",
              "  <thead>\n",
              "    <tr style=\"text-align: right;\">\n",
              "      <th></th>\n",
              "      <th>HABERLER</th>\n",
              "      <th>ETIKET</th>\n",
              "    </tr>\n",
              "  </thead>\n",
              "  <tbody>\n",
              "    <tr>\n",
              "      <th>0</th>\n",
              "      <td>TÜİK verilerine göre sanayi ciro endeksi Ağust...</td>\n",
              "      <td>Ekonomi</td>\n",
              "    </tr>\n",
              "    <tr>\n",
              "      <th>1</th>\n",
              "      <td>Piyasa güne eksi rezervde başladı</td>\n",
              "      <td>Ekonomi</td>\n",
              "    </tr>\n",
              "    <tr>\n",
              "      <th>2</th>\n",
              "      <td>Citigroup, Deutsche Bank ve HSBC Libor manipül...</td>\n",
              "      <td>Ekonomi</td>\n",
              "    </tr>\n",
              "    <tr>\n",
              "      <th>3</th>\n",
              "      <td>Gelişen piyasa yatırımcılarını en fazla 'Fed' ...</td>\n",
              "      <td>Ekonomi</td>\n",
              "    </tr>\n",
              "    <tr>\n",
              "      <th>4</th>\n",
              "      <td>Bitcoin fiyatında yükseliş hız kesmiyor</td>\n",
              "      <td>Ekonomi</td>\n",
              "    </tr>\n",
              "  </tbody>\n",
              "</table>\n",
              "</div>\n",
              "    <div class=\"colab-df-buttons\">\n",
              "\n",
              "  <div class=\"colab-df-container\">\n",
              "    <button class=\"colab-df-convert\" onclick=\"convertToInteractive('df-cea241f5-cc32-4bd8-9d39-c5476313f4d1')\"\n",
              "            title=\"Convert this dataframe to an interactive table.\"\n",
              "            style=\"display:none;\">\n",
              "\n",
              "  <svg xmlns=\"http://www.w3.org/2000/svg\" height=\"24px\" viewBox=\"0 -960 960 960\">\n",
              "    <path d=\"M120-120v-720h720v720H120Zm60-500h600v-160H180v160Zm220 220h160v-160H400v160Zm0 220h160v-160H400v160ZM180-400h160v-160H180v160Zm440 0h160v-160H620v160ZM180-180h160v-160H180v160Zm440 0h160v-160H620v160Z\"/>\n",
              "  </svg>\n",
              "    </button>\n",
              "\n",
              "  <style>\n",
              "    .colab-df-container {\n",
              "      display:flex;\n",
              "      gap: 12px;\n",
              "    }\n",
              "\n",
              "    .colab-df-convert {\n",
              "      background-color: #E8F0FE;\n",
              "      border: none;\n",
              "      border-radius: 50%;\n",
              "      cursor: pointer;\n",
              "      display: none;\n",
              "      fill: #1967D2;\n",
              "      height: 32px;\n",
              "      padding: 0 0 0 0;\n",
              "      width: 32px;\n",
              "    }\n",
              "\n",
              "    .colab-df-convert:hover {\n",
              "      background-color: #E2EBFA;\n",
              "      box-shadow: 0px 1px 2px rgba(60, 64, 67, 0.3), 0px 1px 3px 1px rgba(60, 64, 67, 0.15);\n",
              "      fill: #174EA6;\n",
              "    }\n",
              "\n",
              "    .colab-df-buttons div {\n",
              "      margin-bottom: 4px;\n",
              "    }\n",
              "\n",
              "    [theme=dark] .colab-df-convert {\n",
              "      background-color: #3B4455;\n",
              "      fill: #D2E3FC;\n",
              "    }\n",
              "\n",
              "    [theme=dark] .colab-df-convert:hover {\n",
              "      background-color: #434B5C;\n",
              "      box-shadow: 0px 1px 3px 1px rgba(0, 0, 0, 0.15);\n",
              "      filter: drop-shadow(0px 1px 2px rgba(0, 0, 0, 0.3));\n",
              "      fill: #FFFFFF;\n",
              "    }\n",
              "  </style>\n",
              "\n",
              "    <script>\n",
              "      const buttonEl =\n",
              "        document.querySelector('#df-cea241f5-cc32-4bd8-9d39-c5476313f4d1 button.colab-df-convert');\n",
              "      buttonEl.style.display =\n",
              "        google.colab.kernel.accessAllowed ? 'block' : 'none';\n",
              "\n",
              "      async function convertToInteractive(key) {\n",
              "        const element = document.querySelector('#df-cea241f5-cc32-4bd8-9d39-c5476313f4d1');\n",
              "        const dataTable =\n",
              "          await google.colab.kernel.invokeFunction('convertToInteractive',\n",
              "                                                    [key], {});\n",
              "        if (!dataTable) return;\n",
              "\n",
              "        const docLinkHtml = 'Like what you see? Visit the ' +\n",
              "          '<a target=\"_blank\" href=https://colab.research.google.com/notebooks/data_table.ipynb>data table notebook</a>'\n",
              "          + ' to learn more about interactive tables.';\n",
              "        element.innerHTML = '';\n",
              "        dataTable['output_type'] = 'display_data';\n",
              "        await google.colab.output.renderOutput(dataTable, element);\n",
              "        const docLink = document.createElement('div');\n",
              "        docLink.innerHTML = docLinkHtml;\n",
              "        element.appendChild(docLink);\n",
              "      }\n",
              "    </script>\n",
              "  </div>\n",
              "\n",
              "\n",
              "    <div id=\"df-d9d9eab3-117e-4064-9c58-384ceb27fa3a\">\n",
              "      <button class=\"colab-df-quickchart\" onclick=\"quickchart('df-d9d9eab3-117e-4064-9c58-384ceb27fa3a')\"\n",
              "                title=\"Suggest charts\"\n",
              "                style=\"display:none;\">\n",
              "\n",
              "<svg xmlns=\"http://www.w3.org/2000/svg\" height=\"24px\"viewBox=\"0 0 24 24\"\n",
              "     width=\"24px\">\n",
              "    <g>\n",
              "        <path d=\"M19 3H5c-1.1 0-2 .9-2 2v14c0 1.1.9 2 2 2h14c1.1 0 2-.9 2-2V5c0-1.1-.9-2-2-2zM9 17H7v-7h2v7zm4 0h-2V7h2v10zm4 0h-2v-4h2v4z\"/>\n",
              "    </g>\n",
              "</svg>\n",
              "      </button>\n",
              "\n",
              "<style>\n",
              "  .colab-df-quickchart {\n",
              "      --bg-color: #E8F0FE;\n",
              "      --fill-color: #1967D2;\n",
              "      --hover-bg-color: #E2EBFA;\n",
              "      --hover-fill-color: #174EA6;\n",
              "      --disabled-fill-color: #AAA;\n",
              "      --disabled-bg-color: #DDD;\n",
              "  }\n",
              "\n",
              "  [theme=dark] .colab-df-quickchart {\n",
              "      --bg-color: #3B4455;\n",
              "      --fill-color: #D2E3FC;\n",
              "      --hover-bg-color: #434B5C;\n",
              "      --hover-fill-color: #FFFFFF;\n",
              "      --disabled-bg-color: #3B4455;\n",
              "      --disabled-fill-color: #666;\n",
              "  }\n",
              "\n",
              "  .colab-df-quickchart {\n",
              "    background-color: var(--bg-color);\n",
              "    border: none;\n",
              "    border-radius: 50%;\n",
              "    cursor: pointer;\n",
              "    display: none;\n",
              "    fill: var(--fill-color);\n",
              "    height: 32px;\n",
              "    padding: 0;\n",
              "    width: 32px;\n",
              "  }\n",
              "\n",
              "  .colab-df-quickchart:hover {\n",
              "    background-color: var(--hover-bg-color);\n",
              "    box-shadow: 0 1px 2px rgba(60, 64, 67, 0.3), 0 1px 3px 1px rgba(60, 64, 67, 0.15);\n",
              "    fill: var(--button-hover-fill-color);\n",
              "  }\n",
              "\n",
              "  .colab-df-quickchart-complete:disabled,\n",
              "  .colab-df-quickchart-complete:disabled:hover {\n",
              "    background-color: var(--disabled-bg-color);\n",
              "    fill: var(--disabled-fill-color);\n",
              "    box-shadow: none;\n",
              "  }\n",
              "\n",
              "  .colab-df-spinner {\n",
              "    border: 2px solid var(--fill-color);\n",
              "    border-color: transparent;\n",
              "    border-bottom-color: var(--fill-color);\n",
              "    animation:\n",
              "      spin 1s steps(1) infinite;\n",
              "  }\n",
              "\n",
              "  @keyframes spin {\n",
              "    0% {\n",
              "      border-color: transparent;\n",
              "      border-bottom-color: var(--fill-color);\n",
              "      border-left-color: var(--fill-color);\n",
              "    }\n",
              "    20% {\n",
              "      border-color: transparent;\n",
              "      border-left-color: var(--fill-color);\n",
              "      border-top-color: var(--fill-color);\n",
              "    }\n",
              "    30% {\n",
              "      border-color: transparent;\n",
              "      border-left-color: var(--fill-color);\n",
              "      border-top-color: var(--fill-color);\n",
              "      border-right-color: var(--fill-color);\n",
              "    }\n",
              "    40% {\n",
              "      border-color: transparent;\n",
              "      border-right-color: var(--fill-color);\n",
              "      border-top-color: var(--fill-color);\n",
              "    }\n",
              "    60% {\n",
              "      border-color: transparent;\n",
              "      border-right-color: var(--fill-color);\n",
              "    }\n",
              "    80% {\n",
              "      border-color: transparent;\n",
              "      border-right-color: var(--fill-color);\n",
              "      border-bottom-color: var(--fill-color);\n",
              "    }\n",
              "    90% {\n",
              "      border-color: transparent;\n",
              "      border-bottom-color: var(--fill-color);\n",
              "    }\n",
              "  }\n",
              "</style>\n",
              "\n",
              "      <script>\n",
              "        async function quickchart(key) {\n",
              "          const quickchartButtonEl =\n",
              "            document.querySelector('#' + key + ' button');\n",
              "          quickchartButtonEl.disabled = true;  // To prevent multiple clicks.\n",
              "          quickchartButtonEl.classList.add('colab-df-spinner');\n",
              "          try {\n",
              "            const charts = await google.colab.kernel.invokeFunction(\n",
              "                'suggestCharts', [key], {});\n",
              "          } catch (error) {\n",
              "            console.error('Error during call to suggestCharts:', error);\n",
              "          }\n",
              "          quickchartButtonEl.classList.remove('colab-df-spinner');\n",
              "          quickchartButtonEl.classList.add('colab-df-quickchart-complete');\n",
              "        }\n",
              "        (() => {\n",
              "          let quickchartButtonEl =\n",
              "            document.querySelector('#df-d9d9eab3-117e-4064-9c58-384ceb27fa3a button');\n",
              "          quickchartButtonEl.style.display =\n",
              "            google.colab.kernel.accessAllowed ? 'block' : 'none';\n",
              "        })();\n",
              "      </script>\n",
              "    </div>\n",
              "\n",
              "    </div>\n",
              "  </div>\n"
            ],
            "application/vnd.google.colaboratory.intrinsic+json": {
              "type": "dataframe",
              "variable_name": "df",
              "summary": "{\n  \"name\": \"df\",\n  \"rows\": 4200,\n  \"fields\": [\n    {\n      \"column\": \"HABERLER\",\n      \"properties\": {\n        \"dtype\": \"string\",\n        \"num_unique_values\": 4115,\n        \"samples\": [\n          \"Be\\u015fikta\\u015f'a Portekiz Milli Tak\\u0131m\\u0131'n\\u0131n ABD ile oynad\\u0131\\u011f\\u0131 ma\\u00e7ta sakatlanan Pepe'den m\\u00fcjdeli haber geldi.\",\n          \"Gen\\u00e7 farelerin kalplerinden al\\u0131nan k\\u00f6k h\\u00fccreler ya\\u015fl\\u0131 farelere enjekte edildi\\u011finde hayvanlar\\u0131n kalpleri gen\\u00e7le\\u015fti\",\n          \"\\u00dcnl\\u00fc oyuncu Penelope Cruz, ilgin\\u00e7 bir itirafta bulunarak \\\"Cesur sahnelerim y\\u00fcz\\u00fcnden bir daha film teklifi almayaca\\u011f\\u0131m\\u0131 zannettim. Bunu d\\u00fc\\u015f\\u00fcn\\u00fcp kendimi harap ettim\\\" dedi.\"\n        ],\n        \"semantic_type\": \"\",\n        \"description\": \"\"\n      }\n    },\n    {\n      \"column\": \"ETIKET\",\n      \"properties\": {\n        \"dtype\": \"category\",\n        \"num_unique_values\": 7,\n        \"samples\": [\n          \"Ekonomi\",\n          \"Magazin\",\n          \"Teknoloji\"\n        ],\n        \"semantic_type\": \"\",\n        \"description\": \"\"\n      }\n    }\n  ]\n}"
            }
          },
          "metadata": {},
          "execution_count": 5
        }
      ]
    },
    {
      "cell_type": "markdown",
      "source": [
        "## 3)Veri Keşfi ve Ön Analiz\n",
        "- Kategori dağılımı\n",
        "- Başlık uzunlukları\n",
        "- Eksik veri kontrolü"
      ],
      "metadata": {
        "id": "VRpZ_WZcvS_I"
      }
    },
    {
      "cell_type": "code",
      "source": [
        "# Kategori dağılımı\n",
        "plt.figure(figsize=(10, 5))\n",
        "sns.countplot(data=df, x='ETIKET')\n",
        "plt.title(\"Kategori Dağılımı\")\n",
        "plt.xticks(rotation=45)\n",
        "plt.show()\n",
        "\n",
        "# Başlık uzunlukları\n",
        "df['title_length'] = df['HABERLER'].apply(len)\n",
        "sns.histplot(data=df, x='title_length', bins=30)\n",
        "plt.title(\"Başlık Uzunlukları\")\n",
        "plt.show()\n",
        "\n",
        "# Eksik veri\n",
        "print(\"Eksik veri sayısı:\\n\", df.isnull().sum())"
      ],
      "metadata": {
        "colab": {
          "base_uri": "https://localhost:8080/",
          "height": 1000
        },
        "id": "fq65r4dVoquE",
        "outputId": "91931c1d-f52d-4ca7-9e42-f5ebd38c4753"
      },
      "execution_count": null,
      "outputs": [
        {
          "output_type": "display_data",
          "data": {
            "text/plain": [
              "<Figure size 1000x500 with 1 Axes>"
            ],
            "image/png": "[encoded data removed]"
          },
          "metadata": {}
        },
        {
          "output_type": "display_data",
          "data": {
            "text/plain": [
              "<Figure size 640x480 with 1 Axes>"
            ],
            "image/png": "[encoded data removed]"
          },
          "metadata": {}
        },
        {
          "output_type": "stream",
          "name": "stdout",
          "text": [
            "Eksik veri sayısı:\n",
            " HABERLER        0\n",
            "ETIKET          0\n",
            "title_length    0\n",
            "dtype: int64\n"
          ]
        }
      ]
    },
    {
      "cell_type": "markdown",
      "source": [
        "***4)VERİ ÖNİŞLEME***"
      ],
      "metadata": {
        "id": "BXokJtPICI9i"
      }
    },
    {
      "cell_type": "code",
      "source": [
        "# VERİ ÖNİŞLEME\n",
        "stop_words = set(stopwords.words('turkish'))\n",
        "stemmer = TurkishStemmer()\n",
        "\n",
        "def clean_text(text):\n",
        "    if pd.isna(text):\n",
        "        return \"\"\n",
        "\n",
        "    # Küçük harfe çevirme (kısaltmaları koruyarak)\n",
        "    words = text.split()\n",
        "    processed_words = []\n",
        "\n",
        "    for word in words:\n",
        "        # Büyük harf kısaltmaları koru (TÜİK, THY, IMF vb.)\n",
        "        if word.isupper() and len(word) > 1:\n",
        "            processed_words.append(word)\n",
        "        else:\n",
        "            processed_words.append(word.lower())\n",
        "\n",
        "    text = ' '.join(processed_words)\n",
        "\n",
        "    # Kesme işareti ve ekleri temizle ÖNCE\n",
        "    text = re.sub(r\"'[a-zA-ZçğıöşüÇĞIİÖŞÜ]*\", '', text)\n",
        "\n",
        "    # Tek başına sayıları sil\n",
        "    text = re.sub(r'\\b\\d+\\b', '', text)\n",
        "\n",
        "    # Finansal sembolleri ayır ve koru\n",
        "    financial_symbols = re.findall(r'[$%€₺]', text)\n",
        "\n",
        "    # Tüm noktalamayı sil\n",
        "    text = re.sub(r'[^\\w\\s]', ' ', text)\n",
        "\n",
        "    # Stopword'leri sil ve stemming uygula\n",
        "    words = []\n",
        "    for word in text.split():\n",
        "        if word not in stop_words and len(word) > 2:\n",
        "            # Kısaltmalar için stemming yapma\n",
        "            if word.isupper():\n",
        "                words.append(word)\n",
        "            else:\n",
        "                words.append(stemmer.stem(word))\n",
        "\n",
        "    # Finansal sembolleri geri ekle\n",
        "    result = ' '.join(words)\n",
        "    if financial_symbols:\n",
        "        result += ' ' + ' '.join(financial_symbols)\n",
        "\n",
        "    return result\n",
        "\n",
        "# Test\n",
        "sample_text = \"Enflasyon %8.5 arttı. TÜİK ve THY raporlarında %3 büyüme görüldü\"\n",
        "print(\"Önce:\", sample_text)\n",
        "print(\"Sonra:\", clean_text(sample_text))\n",
        "\n",
        "test_cases = [\n",
        "    \"TÜİK: 2023'te enflasyon %50'yi aştı!\",\n",
        "    \"Fed faiz artırımı doları 18₺'ye çıkardı\",\n",
        "    \"THY, 2023'te 75 milyon yolcu taşıdı\",\n",
        "    \"Ekonomistler büyümenin devam edeceğini söylüyorlar\"\n",
        "]\n",
        "\n",
        "for case in test_cases:\n",
        "    print(f\"\\nÖnce: {case}\")\n",
        "    print(f\"Sonra: {clean_text(case)}\")"
      ],
      "metadata": {
        "colab": {
          "base_uri": "https://localhost:8080/"
        },
        "id": "Qp2lDy0fEq6R",
        "outputId": "9b5f6424-4ef7-4a2b-ad59-6493d11b08b1"
      },
      "execution_count": null,
      "outputs": [
        {
          "output_type": "stream",
          "name": "stdout",
          "text": [
            "Önce: Enflasyon %8.5 arttı. TÜİK ve THY raporlarında %3 büyüme görüldü\n",
            "Sonra: enflasyon artt TÜİK THY rapor büy görül % %\n",
            "\n",
            "Önce: TÜİK: 2023'te enflasyon %50'yi aştı!\n",
            "Sonra: TÜİK enflasyon aşt %\n",
            "\n",
            "Önce: Fed faiz artırımı doları 18₺'ye çıkardı\n",
            "Sonra: fed faiz artır dolar çıkar ₺\n",
            "\n",
            "Önce: THY, 2023'te 75 milyon yolcu taşıdı\n",
            "Sonra: THY milyon yolç taşı\n",
            "\n",
            "Önce: Ekonomistler büyümenin devam edeceğini söylüyorlar\n",
            "Sonra: ekonomist büyüme devam edecek söylüyor\n"
          ]
        }
      ]
    },
    {
      "cell_type": "code",
      "source": [
        "#veri temizleme\n",
        "# Tüm başlıkları temizleme\n",
        "df['cleaned_title'] = df['HABERLER'].apply(clean_text)\n",
        "\n",
        "# Kategorileri sayısallaştırma\n",
        "df['category_id'] = df['ETIKET'].factorize()[0]\n",
        "\n",
        "# Temizlenmiş veriyi göster\n",
        "df[['HABERLER', 'cleaned_title', 'ETIKET', 'category_id']].head()"
      ],
      "metadata": {
        "colab": {
          "base_uri": "https://localhost:8080/",
          "height": 206
        },
        "id": "QCh35VGmwKzx",
        "outputId": "ef62ae0d-3d01-45ac-ee91-cabb0904041f"
      },
      "execution_count": null,
      "outputs": [
        {
          "output_type": "execute_result",
          "data": {
            "text/plain": [
              "                                            HABERLER  \\\n",
              "0  TÜİK verilerine göre sanayi ciro endeksi Ağust...   \n",
              "1                  Piyasa güne eksi rezervde başladı   \n",
              "2  Citigroup, Deutsche Bank ve HSBC Libor manipül...   \n",
              "3  Gelişen piyasa yatırımcılarını en fazla 'Fed' ...   \n",
              "4            Bitcoin fiyatında yükseliş hız kesmiyor   \n",
              "\n",
              "                                       cleaned_title   ETIKET  category_id  \n",
              "0  TÜİK veri gör sanayi ciro endeks ağustos ayın ...  Ekonomi            0  \n",
              "1                           piya gün eks rezerv başl  Ekonomi            0  \n",
              "2  citigroup deutsche bank HSBC libor manipülasyo...  Ekonomi            0  \n",
              "3         gelişen piya yatırımcı fazl ilgilendiriyor  Ekonomi            0  \n",
              "4                 bitcoi fiyat yükseliş hız kesmiyor  Ekonomi            0  "
            ],
            "text/html": [
              "\n",
              "  <div id=\"df-10bc41ad-039b-45c4-9697-e41bd4a181cc\" class=\"colab-df-container\">\n",
              "    <div>\n",
              "<style scoped>\n",
              "    .dataframe tbody tr th:only-of-type {\n",
              "        vertical-align: middle;\n",
              "    }\n",
              "\n",
              "    .dataframe tbody tr th {\n",
              "        vertical-align: top;\n",
              "    }\n",
              "\n",
              "    .dataframe thead th {\n",
              "        text-align: right;\n",
              "    }\n",
              "</style>\n",
              "<table border=\"1\" class=\"dataframe\">\n",
              "  <thead>\n",
              "    <tr style=\"text-align: right;\">\n",
              "      <th></th>\n",
              "      <th>HABERLER</th>\n",
              "      <th>cleaned_title</th>\n",
              "      <th>ETIKET</th>\n",
              "      <th>category_id</th>\n",
              "    </tr>\n",
              "  </thead>\n",
              "  <tbody>\n",
              "    <tr>\n",
              "      <th>0</th>\n",
              "      <td>TÜİK verilerine göre sanayi ciro endeksi Ağust...</td>\n",
              "      <td>TÜİK veri gör sanayi ciro endeks ağustos ayın ...</td>\n",
              "      <td>Ekonomi</td>\n",
              "      <td>0</td>\n",
              "    </tr>\n",
              "    <tr>\n",
              "      <th>1</th>\n",
              "      <td>Piyasa güne eksi rezervde başladı</td>\n",
              "      <td>piya gün eks rezerv başl</td>\n",
              "      <td>Ekonomi</td>\n",
              "      <td>0</td>\n",
              "    </tr>\n",
              "    <tr>\n",
              "      <th>2</th>\n",
              "      <td>Citigroup, Deutsche Bank ve HSBC Libor manipül...</td>\n",
              "      <td>citigroup deutsche bank HSBC libor manipülasyo...</td>\n",
              "      <td>Ekonomi</td>\n",
              "      <td>0</td>\n",
              "    </tr>\n",
              "    <tr>\n",
              "      <th>3</th>\n",
              "      <td>Gelişen piyasa yatırımcılarını en fazla 'Fed' ...</td>\n",
              "      <td>gelişen piya yatırımcı fazl ilgilendiriyor</td>\n",
              "      <td>Ekonomi</td>\n",
              "      <td>0</td>\n",
              "    </tr>\n",
              "    <tr>\n",
              "      <th>4</th>\n",
              "      <td>Bitcoin fiyatında yükseliş hız kesmiyor</td>\n",
              "      <td>bitcoi fiyat yükseliş hız kesmiyor</td>\n",
              "      <td>Ekonomi</td>\n",
              "      <td>0</td>\n",
              "    </tr>\n",
              "  </tbody>\n",
              "</table>\n",
              "</div>\n",
              "    <div class=\"colab-df-buttons\">\n",
              "\n",
              "  <div class=\"colab-df-container\">\n",
              "    <button class=\"colab-df-convert\" onclick=\"convertToInteractive('df-10bc41ad-039b-45c4-9697-e41bd4a181cc')\"\n",
              "            title=\"Convert this dataframe to an interactive table.\"\n",
              "            style=\"display:none;\">\n",
              "\n",
              "  <svg xmlns=\"http://www.w3.org/2000/svg\" height=\"24px\" viewBox=\"0 -960 960 960\">\n",
              "    <path d=\"M120-120v-720h720v720H120Zm60-500h600v-160H180v160Zm220 220h160v-160H400v160Zm0 220h160v-160H400v160ZM180-400h160v-160H180v160Zm440 0h160v-160H620v160ZM180-180h160v-160H180v160Zm440 0h160v-160H620v160Z\"/>\n",
              "  </svg>\n",
              "    </button>\n",
              "\n",
              "  <style>\n",
              "    .colab-df-container {\n",
              "      display:flex;\n",
              "      gap: 12px;\n",
              "    }\n",
              "\n",
              "    .colab-df-convert {\n",
              "      background-color: #E8F0FE;\n",
              "      border: none;\n",
              "      border-radius: 50%;\n",
              "      cursor: pointer;\n",
              "      display: none;\n",
              "      fill: #1967D2;\n",
              "      height: 32px;\n",
              "      padding: 0 0 0 0;\n",
              "      width: 32px;\n",
              "    }\n",
              "\n",
              "    .colab-df-convert:hover {\n",
              "      background-color: #E2EBFA;\n",
              "      box-shadow: 0px 1px 2px rgba(60, 64, 67, 0.3), 0px 1px 3px 1px rgba(60, 64, 67, 0.15);\n",
              "      fill: #174EA6;\n",
              "    }\n",
              "\n",
              "    .colab-df-buttons div {\n",
              "      margin-bottom: 4px;\n",
              "    }\n",
              "\n",
              "    [theme=dark] .colab-df-convert {\n",
              "      background-color: #3B4455;\n",
              "      fill: #D2E3FC;\n",
              "    }\n",
              "\n",
              "    [theme=dark] .colab-df-convert:hover {\n",
              "      background-color: #434B5C;\n",
              "      box-shadow: 0px 1px 3px 1px rgba(0, 0, 0, 0.15);\n",
              "      filter: drop-shadow(0px 1px 2px rgba(0, 0, 0, 0.3));\n",
              "      fill: #FFFFFF;\n",
              "    }\n",
              "  </style>\n",
              "\n",
              "    <script>\n",
              "      const buttonEl =\n",
              "        document.querySelector('#df-10bc41ad-039b-45c4-9697-e41bd4a181cc button.colab-df-convert');\n",
              "      buttonEl.style.display =\n",
              "        google.colab.kernel.accessAllowed ? 'block' : 'none';\n",
              "\n",
              "      async function convertToInteractive(key) {\n",
              "        const element = document.querySelector('#df-10bc41ad-039b-45c4-9697-e41bd4a181cc');\n",
              "        const dataTable =\n",
              "          await google.colab.kernel.invokeFunction('convertToInteractive',\n",
              "                                                    [key], {});\n",
              "        if (!dataTable) return;\n",
              "\n",
              "        const docLinkHtml = 'Like what you see? Visit the ' +\n",
              "          '<a target=\"_blank\" href=https://colab.research.google.com/notebooks/data_table.ipynb>data table notebook</a>'\n",
              "          + ' to learn more about interactive tables.';\n",
              "        element.innerHTML = '';\n",
              "        dataTable['output_type'] = 'display_data';\n",
              "        await google.colab.output.renderOutput(dataTable, element);\n",
              "        const docLink = document.createElement('div');\n",
              "        docLink.innerHTML = docLinkHtml;\n",
              "        element.appendChild(docLink);\n",
              "      }\n",
              "    </script>\n",
              "  </div>\n",
              "\n",
              "\n",
              "    <div id=\"df-000b6c04-a15f-472e-82c3-f6c497e6c9f3\">\n",
              "      <button class=\"colab-df-quickchart\" onclick=\"quickchart('df-000b6c04-a15f-472e-82c3-f6c497e6c9f3')\"\n",
              "                title=\"Suggest charts\"\n",
              "                style=\"display:none;\">\n",
              "\n",
              "<svg xmlns=\"http://www.w3.org/2000/svg\" height=\"24px\"viewBox=\"0 0 24 24\"\n",
              "     width=\"24px\">\n",
              "    <g>\n",
              "        <path d=\"M19 3H5c-1.1 0-2 .9-2 2v14c0 1.1.9 2 2 2h14c1.1 0 2-.9 2-2V5c0-1.1-.9-2-2-2zM9 17H7v-7h2v7zm4 0h-2V7h2v10zm4 0h-2v-4h2v4z\"/>\n",
              "    </g>\n",
              "</svg>\n",
              "      </button>\n",
              "\n",
              "<style>\n",
              "  .colab-df-quickchart {\n",
              "      --bg-color: #E8F0FE;\n",
              "      --fill-color: #1967D2;\n",
              "      --hover-bg-color: #E2EBFA;\n",
              "      --hover-fill-color: #174EA6;\n",
              "      --disabled-fill-color: #AAA;\n",
              "      --disabled-bg-color: #DDD;\n",
              "  }\n",
              "\n",
              "  [theme=dark] .colab-df-quickchart {\n",
              "      --bg-color: #3B4455;\n",
              "      --fill-color: #D2E3FC;\n",
              "      --hover-bg-color: #434B5C;\n",
              "      --hover-fill-color: #FFFFFF;\n",
              "      --disabled-bg-color: #3B4455;\n",
              "      --disabled-fill-color: #666;\n",
              "  }\n",
              "\n",
              "  .colab-df-quickchart {\n",
              "    background-color: var(--bg-color);\n",
              "    border: none;\n",
              "    border-radius: 50%;\n",
              "    cursor: pointer;\n",
              "    display: none;\n",
              "    fill: var(--fill-color);\n",
              "    height: 32px;\n",
              "    padding: 0;\n",
              "    width: 32px;\n",
              "  }\n",
              "\n",
              "  .colab-df-quickchart:hover {\n",
              "    background-color: var(--hover-bg-color);\n",
              "    box-shadow: 0 1px 2px rgba(60, 64, 67, 0.3), 0 1px 3px 1px rgba(60, 64, 67, 0.15);\n",
              "    fill: var(--button-hover-fill-color);\n",
              "  }\n",
              "\n",
              "  .colab-df-quickchart-complete:disabled,\n",
              "  .colab-df-quickchart-complete:disabled:hover {\n",
              "    background-color: var(--disabled-bg-color);\n",
              "    fill: var(--disabled-fill-color);\n",
              "    box-shadow: none;\n",
              "  }\n",
              "\n",
              "  .colab-df-spinner {\n",
              "    border: 2px solid var(--fill-color);\n",
              "    border-color: transparent;\n",
              "    border-bottom-color: var(--fill-color);\n",
              "    animation:\n",
              "      spin 1s steps(1) infinite;\n",
              "  }\n",
              "\n",
              "  @keyframes spin {\n",
              "    0% {\n",
              "      border-color: transparent;\n",
              "      border-bottom-color: var(--fill-color);\n",
              "      border-left-color: var(--fill-color);\n",
              "    }\n",
              "    20% {\n",
              "      border-color: transparent;\n",
              "      border-left-color: var(--fill-color);\n",
              "      border-top-color: var(--fill-color);\n",
              "    }\n",
              "    30% {\n",
              "      border-color: transparent;\n",
              "      border-left-color: var(--fill-color);\n",
              "      border-top-color: var(--fill-color);\n",
              "      border-right-color: var(--fill-color);\n",
              "    }\n",
              "    40% {\n",
              "      border-color: transparent;\n",
              "      border-right-color: var(--fill-color);\n",
              "      border-top-color: var(--fill-color);\n",
              "    }\n",
              "    60% {\n",
              "      border-color: transparent;\n",
              "      border-right-color: var(--fill-color);\n",
              "    }\n",
              "    80% {\n",
              "      border-color: transparent;\n",
              "      border-right-color: var(--fill-color);\n",
              "      border-bottom-color: var(--fill-color);\n",
              "    }\n",
              "    90% {\n",
              "      border-color: transparent;\n",
              "      border-bottom-color: var(--fill-color);\n",
              "    }\n",
              "  }\n",
              "</style>\n",
              "\n",
              "      <script>\n",
              "        async function quickchart(key) {\n",
              "          const quickchartButtonEl =\n",
              "            document.querySelector('#' + key + ' button');\n",
              "          quickchartButtonEl.disabled = true;  // To prevent multiple clicks.\n",
              "          quickchartButtonEl.classList.add('colab-df-spinner');\n",
              "          try {\n",
              "            const charts = await google.colab.kernel.invokeFunction(\n",
              "                'suggestCharts', [key], {});\n",
              "          } catch (error) {\n",
              "            console.error('Error during call to suggestCharts:', error);\n",
              "          }\n",
              "          quickchartButtonEl.classList.remove('colab-df-spinner');\n",
              "          quickchartButtonEl.classList.add('colab-df-quickchart-complete');\n",
              "        }\n",
              "        (() => {\n",
              "          let quickchartButtonEl =\n",
              "            document.querySelector('#df-000b6c04-a15f-472e-82c3-f6c497e6c9f3 button');\n",
              "          quickchartButtonEl.style.display =\n",
              "            google.colab.kernel.accessAllowed ? 'block' : 'none';\n",
              "        })();\n",
              "      </script>\n",
              "    </div>\n",
              "\n",
              "    </div>\n",
              "  </div>\n"
            ],
            "application/vnd.google.colaboratory.intrinsic+json": {
              "type": "dataframe",
              "summary": "{\n  \"name\": \"df[['HABERLER', 'cleaned_title', 'ETIKET', 'category_id']]\",\n  \"rows\": 5,\n  \"fields\": [\n    {\n      \"column\": \"HABERLER\",\n      \"properties\": {\n        \"dtype\": \"string\",\n        \"num_unique_values\": 5,\n        \"samples\": [\n          \"Piyasa g\\u00fcne eksi rezervde ba\\u015flad\\u0131\",\n          \"Bitcoin fiyat\\u0131nda y\\u00fckseli\\u015f h\\u0131z kesmiyor\",\n          \"Citigroup, Deutsche Bank ve HSBC Libor manip\\u00fclasyonu davas\\u0131nda 132 milyon dolar \\u00f6demeyi kabul ettiler.\"\n        ],\n        \"semantic_type\": \"\",\n        \"description\": \"\"\n      }\n    },\n    {\n      \"column\": \"cleaned_title\",\n      \"properties\": {\n        \"dtype\": \"string\",\n        \"num_unique_values\": 5,\n        \"samples\": [\n          \"piya g\\u00fcn eks rezerv ba\\u015fl\",\n          \"bitcoi fiyat y\\u00fckseli\\u015f h\\u0131z kesmiyor\",\n          \"citigroup deutsche bank HSBC libor manip\\u00fclasyon dava milyon do \\u00f6deme kabul etti\"\n        ],\n        \"semantic_type\": \"\",\n        \"description\": \"\"\n      }\n    },\n    {\n      \"column\": \"ETIKET\",\n      \"properties\": {\n        \"dtype\": \"category\",\n        \"num_unique_values\": 1,\n        \"samples\": [\n          \"Ekonomi\"\n        ],\n        \"semantic_type\": \"\",\n        \"description\": \"\"\n      }\n    },\n    {\n      \"column\": \"category_id\",\n      \"properties\": {\n        \"dtype\": \"number\",\n        \"std\": 0,\n        \"min\": 0,\n        \"max\": 0,\n        \"num_unique_values\": 1,\n        \"samples\": [\n          0\n        ],\n        \"semantic_type\": \"\",\n        \"description\": \"\"\n      }\n    }\n  ]\n}"
            }
          },
          "metadata": {},
          "execution_count": 36
        }
      ]
    },
    {
      "cell_type": "markdown",
      "source": [
        "***5)TF-IDF vektörleri oluşturma***"
      ],
      "metadata": {
        "id": "TJlS2QMMCTCT"
      }
    },
    {
      "cell_type": "code",
      "source": [
        "# TF-IDF vektörleri oluşturma\n",
        "tfidf = TfidfVectorizer(\n",
        "    max_features=10000,      # Özellik sayısını artır\n",
        "    ngram_range=(1,3),       # 3-gram ekle\n",
        "    min_df=2,                # Çok nadir kelimeleri çıkar\n",
        "    max_df=0.8,              # Çok yaygın kelimeleri çıkar\n",
        "    sublinear_tf=True        # TF normalleştirmesi\n",
        ")\n",
        "X = tfidf.fit_transform(df['cleaned_title'])\n",
        "y = df['category_id']\n",
        "\n",
        "# Eğitim ve test setleri\n",
        "X_train, X_test, y_train, y_test = train_test_split(X, y, test_size=0.15, random_state=42, stratify=y)\n",
        "\n",
        "print(\"Eğitim seti boyutu:\", X_train.shape)\n",
        "print(\"Test seti boyutu:\", X_test.shape)"
      ],
      "metadata": {
        "colab": {
          "base_uri": "https://localhost:8080/"
        },
        "id": "fLd6YdwTwQzi",
        "outputId": "c247316b-235b-4863-d1eb-9b201cd6f489"
      },
      "execution_count": null,
      "outputs": [
        {
          "output_type": "stream",
          "name": "stdout",
          "text": [
            "Eğitim seti boyutu: (3570, 10000)\n",
            "Test seti boyutu: (630, 10000)\n"
          ]
        }
      ]
    },
    {
      "cell_type": "markdown",
      "source": [
        "## ***6)MODEL-1 NAİVE BAYES***"
      ],
      "metadata": {
        "id": "EnM5_nZ9CfNc"
      }
    },
    {
      "cell_type": "code",
      "source": [
        "# Naive Bayes modeli\n",
        "nb_model = MultinomialNB(alpha=0.1)\n",
        "nb_model.fit(X_train, y_train)\n",
        "y_pred_nb = nb_model.predict(X_test)\n",
        "\n",
        "# Performans metrikleri\n",
        "print(\"Naive Bayes Doğruluk:\", accuracy_score(y_test, y_pred_nb))\n",
        "print(\"\\nSınıflandırma Raporu:\\n\", classification_report(y_test, y_pred_nb, target_names=df['ETIKET'].unique()))\n",
        "\n",
        "# Karmaşıklık matrisi\n",
        "plt.figure(figsize=(10, 7))\n",
        "sns.heatmap(confusion_matrix(y_test, y_pred_nb), annot=True, fmt='d', cmap='Blues',\n",
        "            xticklabels=df['ETIKET'].unique(),\n",
        "            yticklabels=df['ETIKET'].unique())\n",
        "plt.title(\"Naive Bayes Karmaşıklık Matrisi\")\n",
        "plt.show()"
      ],
      "metadata": {
        "colab": {
          "base_uri": "https://localhost:8080/",
          "height": 931
        },
        "id": "SRgY_TQmwWza",
        "outputId": "2f38456f-5da6-4a28-f6c7-ea252dd62a04"
      },
      "execution_count": null,
      "outputs": [
        {
          "output_type": "stream",
          "name": "stdout",
          "text": [
            "Naive Bayes Doğruluk: 0.9841269841269841\n",
            "\n",
            "Sınıflandırma Raporu:\n",
            "               precision    recall  f1-score   support\n",
            "\n",
            "     Ekonomi       1.00      0.94      0.97        90\n",
            "     Magazin       0.99      0.98      0.98        90\n",
            "      Sağlık       0.98      0.99      0.98        90\n",
            "     Siyaset       1.00      1.00      1.00        90\n",
            "        Spor       0.99      1.00      0.99        90\n",
            "   Teknoloji       0.94      0.99      0.96        90\n",
            "       Yaşam       1.00      0.99      0.99        90\n",
            "\n",
            "    accuracy                           0.98       630\n",
            "   macro avg       0.98      0.98      0.98       630\n",
            "weighted avg       0.98      0.98      0.98       630\n",
            "\n"
          ]
        },
        {
          "output_type": "display_data",
          "data": {
            "text/plain": [
              "<Figure size 1000x700 with 2 Axes>"
            ],
            "image/png": "[encoded data removed]"
          },
          "metadata": {}
        }
      ]
    },
    {
      "cell_type": "markdown",
      "source": [
        "## ***7)MODEL-2 LOGİSTİC REGRESSİON***"
      ],
      "metadata": {
        "id": "l_hHgOXjDEnK"
      }
    },
    {
      "cell_type": "code",
      "source": [
        "# Logistic Regression modeli\n",
        "lr_model = LogisticRegression(\n",
        "    max_iter=1000,  # Yakınsama için iterasyon sayısı\n",
        "    random_state=42\n",
        ")\n",
        "lr_model.fit(X_train, y_train)\n",
        "y_pred_lr = lr_model.predict(X_test)\n",
        "\n",
        "# Performans metrikleri\n",
        "print(\"Logistic Regression Doğruluk:\", accuracy_score(y_test, y_pred_lr))\n",
        "print(\"\\nSınıflandırma Raporu:\\n\", classification_report(y_test, y_pred_lr, target_names=df['ETIKET'].unique()))\n",
        "\n",
        "# Karmaşıklık matrisi\n",
        "plt.figure(figsize=(10, 7))\n",
        "sns.heatmap(\n",
        "    confusion_matrix(y_test, y_pred_lr),\n",
        "    annot=True,\n",
        "    fmt='d',\n",
        "    cmap='Reds',\n",
        "    xticklabels=df['ETIKET'].unique(),\n",
        "    yticklabels=df['ETIKET'].unique()\n",
        ")\n",
        "plt.title(\"Logistic Regression Karmaşıklık Matrisi\")\n",
        "plt.show()"
      ],
      "metadata": {
        "colab": {
          "base_uri": "https://localhost:8080/",
          "height": 931
        },
        "id": "8ltC3gTUimmO",
        "outputId": "445b10db-dfca-4db4-aa0d-fe71b8cd0e24"
      },
      "execution_count": null,
      "outputs": [
        {
          "output_type": "stream",
          "name": "stdout",
          "text": [
            "Logistic Regression Doğruluk: 0.9793650793650793\n",
            "\n",
            "Sınıflandırma Raporu:\n",
            "               precision    recall  f1-score   support\n",
            "\n",
            "     Ekonomi       0.97      0.94      0.96        90\n",
            "     Magazin       0.99      0.97      0.98        90\n",
            "      Sağlık       0.98      1.00      0.99        90\n",
            "     Siyaset       0.99      0.98      0.98        90\n",
            "        Spor       0.99      1.00      0.99        90\n",
            "   Teknoloji       0.96      0.97      0.96        90\n",
            "       Yaşam       0.99      1.00      0.99        90\n",
            "\n",
            "    accuracy                           0.98       630\n",
            "   macro avg       0.98      0.98      0.98       630\n",
            "weighted avg       0.98      0.98      0.98       630\n",
            "\n"
          ]
        },
        {
          "output_type": "display_data",
          "data": {
            "text/plain": [
              "<Figure size 1000x700 with 2 Axes>"
            ],
            "image/png": "[encoded data removed]"
          },
          "metadata": {}
        }
      ]
    },
    {
      "cell_type": "markdown",
      "source": [
        "8) MODELLERİN KARŞILAŞTIRILMASI"
      ],
      "metadata": {
        "id": "Ftu4qWojD-Q7"
      }
    },
    {
      "cell_type": "code",
      "source": [
        "# Modellerin doğruluk karşılaştırması\n",
        "models = ['Naive Bayes', 'Logistic Regression']\n",
        "accuracies = [accuracy_score(y_test, y_pred_nb), accuracy_score(y_test, y_pred_lr)]\n",
        "\n",
        "plt.figure(figsize=(8, 5))\n",
        "bars = plt.bar(models, accuracies, color=['#1f77b4', '#ff7f0e'])\n",
        "plt.title(\"Model Doğruluk Karşılaştırması\")\n",
        "plt.ylabel(\"Doğruluk (Accuracy)\")\n",
        "plt.ylim(0, 1)\n",
        "for i, acc in enumerate(accuracies):\n",
        "    plt.text(i, acc + 0.02, f\"{acc:.3f}\", ha='center')\n",
        "plt.show()"
      ],
      "metadata": {
        "colab": {
          "base_uri": "https://localhost:8080/",
          "height": 468
        },
        "id": "HHlnzW9Vi9mk",
        "outputId": "70a44773-a16e-45dc-a38f-7ad76da46113"
      },
      "execution_count": null,
      "outputs": [
        {
          "output_type": "display_data",
          "data": {
            "text/plain": [
              "<Figure size 800x500 with 1 Axes>"
            ],
            "image/png": "[encoded data removed]"
          },
          "metadata": {}
        }
      ]
    }
  ]
}